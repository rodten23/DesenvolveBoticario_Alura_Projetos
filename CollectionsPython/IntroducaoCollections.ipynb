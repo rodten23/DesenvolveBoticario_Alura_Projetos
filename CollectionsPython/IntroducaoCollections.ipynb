{
 "cells": [
  {
   "attachments": {},
   "cell_type": "markdown",
   "metadata": {},
   "source": [
    "## LISTAS\n",
    "### São mutáveis (e isso pode ser perigoso) e normmalmente montamos listas de mesmo tipo (e categoria de objetos) como, lista1 de nomes (string), lista2 com idades(int), lista3 com alturas(float), etc."
   ]
  },
  {
   "cell_type": "code",
   "execution_count": 1,
   "metadata": {},
   "outputs": [
    {
     "name": "stdout",
     "output_type": "stream",
     "text": [
      "41\n",
      "46\n",
      "12\n",
      "10\n"
     ]
    }
   ],
   "source": [
    "idade_r = 41\n",
    "idade_s = 46\n",
    "idade_me = 12\n",
    "idade_mi = 10\n",
    "\n",
    "print(idade_r)\n",
    "print(idade_s)\n",
    "print(idade_me)\n",
    "print(idade_mi)"
   ]
  },
  {
   "cell_type": "code",
   "execution_count": 2,
   "metadata": {},
   "outputs": [
    {
     "name": "stdout",
     "output_type": "stream",
     "text": [
      "[41, 46, 12, 10]\n"
     ]
    }
   ],
   "source": [
    "idades = [idade_r, idade_s, idade_me, idade_mi]\n",
    "print(idades)"
   ]
  },
  {
   "cell_type": "code",
   "execution_count": 3,
   "metadata": {},
   "outputs": [
    {
     "name": "stdout",
     "output_type": "stream",
     "text": [
      "<class 'list'>\n"
     ]
    },
    {
     "data": {
      "text/plain": [
       "4"
      ]
     },
     "execution_count": 3,
     "metadata": {},
     "output_type": "execute_result"
    }
   ],
   "source": [
    "# Quando temos mais de uma linha no notebook, apenas a última linha é impressa automaticamente e,\n",
    "# nas anteriores, somos obrigados a usar a função print()\n",
    "print(type(idades))\n",
    "(len(idades))"
   ]
  },
  {
   "cell_type": "code",
   "execution_count": 4,
   "metadata": {},
   "outputs": [
    {
     "data": {
      "text/plain": [
       "[41, 46, 12, 10, 70]"
      ]
     },
     "execution_count": 4,
     "metadata": {},
     "output_type": "execute_result"
    }
   ],
   "source": [
    "idades.append(70)\n",
    "idades"
   ]
  },
  {
   "cell_type": "code",
   "execution_count": 5,
   "metadata": {},
   "outputs": [
    {
     "data": {
      "text/plain": [
       "10"
      ]
     },
     "execution_count": 5,
     "metadata": {},
     "output_type": "execute_result"
    }
   ],
   "source": [
    "idades[3]"
   ]
  },
  {
   "cell_type": "code",
   "execution_count": 6,
   "metadata": {},
   "outputs": [
    {
     "name": "stdout",
     "output_type": "stream",
     "text": [
      "41\n",
      "46\n",
      "12\n",
      "10\n",
      "70\n"
     ]
    }
   ],
   "source": [
    "for idade in idades:\n",
    "    print(idade)"
   ]
  },
  {
   "cell_type": "code",
   "execution_count": 7,
   "metadata": {},
   "outputs": [
    {
     "data": {
      "text/plain": [
       "[41, 46, 12, 10]"
      ]
     },
     "execution_count": 7,
     "metadata": {},
     "output_type": "execute_result"
    }
   ],
   "source": [
    "idades.remove(70)\n",
    "idades"
   ]
  },
  {
   "cell_type": "code",
   "execution_count": 8,
   "metadata": {},
   "outputs": [
    {
     "data": {
      "text/plain": [
       "[41, 12, 10, 46]"
      ]
     },
     "execution_count": 8,
     "metadata": {},
     "output_type": "execute_result"
    }
   ],
   "source": [
    "idades.append(46)\n",
    "idades.remove(46)\n",
    "idades"
   ]
  },
  {
   "cell_type": "code",
   "execution_count": 9,
   "metadata": {},
   "outputs": [
    {
     "data": {
      "text/plain": [
       "[]"
      ]
     },
     "execution_count": 9,
     "metadata": {},
     "output_type": "execute_result"
    }
   ],
   "source": [
    "idades.clear()\n",
    "idades"
   ]
  },
  {
   "cell_type": "code",
   "execution_count": 10,
   "metadata": {},
   "outputs": [
    {
     "data": {
      "text/plain": [
       "[9, 12, 15, 18, 21]"
      ]
     },
     "execution_count": 10,
     "metadata": {},
     "output_type": "execute_result"
    }
   ],
   "source": [
    "idades = [9,12,15,18,21]\n",
    "idades"
   ]
  },
  {
   "cell_type": "code",
   "execution_count": 11,
   "metadata": {},
   "outputs": [
    {
     "data": {
      "text/plain": [
       "False"
      ]
     },
     "execution_count": 11,
     "metadata": {},
     "output_type": "execute_result"
    }
   ],
   "source": [
    "33 in idades"
   ]
  },
  {
   "cell_type": "code",
   "execution_count": 12,
   "metadata": {},
   "outputs": [
    {
     "data": {
      "text/plain": [
       "True"
      ]
     },
     "execution_count": 12,
     "metadata": {},
     "output_type": "execute_result"
    }
   ],
   "source": [
    "15 in idades"
   ]
  },
  {
   "cell_type": "code",
   "execution_count": 13,
   "metadata": {},
   "outputs": [
    {
     "data": {
      "text/plain": [
       "[9, 12, 15, 18]"
      ]
     },
     "execution_count": 13,
     "metadata": {},
     "output_type": "execute_result"
    }
   ],
   "source": [
    "if 21 in idades:\n",
    "    idades.remove(21)\n",
    "\n",
    "idades"
   ]
  },
  {
   "cell_type": "code",
   "execution_count": 14,
   "metadata": {},
   "outputs": [
    {
     "data": {
      "text/plain": [
       "[9, 12, 15, 18]"
      ]
     },
     "execution_count": 14,
     "metadata": {},
     "output_type": "execute_result"
    }
   ],
   "source": [
    "if 32 in idades:\n",
    "    idades.remove(32)\n",
    "\n",
    "idades"
   ]
  },
  {
   "cell_type": "code",
   "execution_count": 15,
   "metadata": {},
   "outputs": [
    {
     "data": {
      "text/plain": [
       "[3, 9, 12, 15, 18]"
      ]
     },
     "execution_count": 15,
     "metadata": {},
     "output_type": "execute_result"
    }
   ],
   "source": [
    "idades.insert(0,3)\n",
    "idades"
   ]
  },
  {
   "cell_type": "code",
   "execution_count": 16,
   "metadata": {},
   "outputs": [
    {
     "data": {
      "text/plain": [
       "[3, 9, 12, 15, 18, [45, 60]]"
      ]
     },
     "execution_count": 16,
     "metadata": {},
     "output_type": "execute_result"
    }
   ],
   "source": [
    "idades.append([45,60])\n",
    "idades"
   ]
  },
  {
   "cell_type": "code",
   "execution_count": 17,
   "metadata": {},
   "outputs": [
    {
     "name": "stdout",
     "output_type": "stream",
     "text": [
      "Recebi o elemento 3\n",
      "Recebi o elemento 9\n",
      "Recebi o elemento 12\n",
      "Recebi o elemento 15\n",
      "Recebi o elemento 18\n",
      "Recebi o elemento [45, 60]\n"
     ]
    }
   ],
   "source": [
    "for elemento in idades:\n",
    "    print('Recebi o elemento', elemento)"
   ]
  },
  {
   "cell_type": "code",
   "execution_count": 18,
   "metadata": {},
   "outputs": [
    {
     "data": {
      "text/plain": [
       "[3, 9, 12, 15, 18, 45, 60]"
      ]
     },
     "execution_count": 18,
     "metadata": {},
     "output_type": "execute_result"
    }
   ],
   "source": [
    "idades = [3,9,12,15,18]\n",
    "idades.extend([45,60])\n",
    "idades"
   ]
  },
  {
   "cell_type": "code",
   "execution_count": 19,
   "metadata": {},
   "outputs": [
    {
     "name": "stdout",
     "output_type": "stream",
     "text": [
      "4\n",
      "10\n",
      "13\n",
      "16\n",
      "19\n",
      "46\n",
      "61\n"
     ]
    }
   ],
   "source": [
    "for idade in idades:\n",
    "    print(idade + 1)"
   ]
  },
  {
   "cell_type": "code",
   "execution_count": 20,
   "metadata": {},
   "outputs": [
    {
     "data": {
      "text/plain": [
       "[4, 10, 13, 16, 19, 46, 61]"
      ]
     },
     "execution_count": 20,
     "metadata": {},
     "output_type": "execute_result"
    }
   ],
   "source": [
    "idades_no_ano_que_vem = []\n",
    "for idade in idades:\n",
    "    idades_no_ano_que_vem.append(idade + 1)\n",
    "idades_no_ano_que_vem\n"
   ]
  },
  {
   "cell_type": "code",
   "execution_count": 21,
   "metadata": {},
   "outputs": [
    {
     "data": {
      "text/plain": [
       "[4, 10, 13, 16, 19, 46, 61]"
      ]
     },
     "execution_count": 21,
     "metadata": {},
     "output_type": "execute_result"
    }
   ],
   "source": [
    "[(idade + 1) for idade in idades]"
   ]
  },
  {
   "cell_type": "code",
   "execution_count": 22,
   "metadata": {},
   "outputs": [
    {
     "data": {
      "text/plain": [
       "[4, 10, 13, 16, 19, 46, 61]"
      ]
     },
     "execution_count": 22,
     "metadata": {},
     "output_type": "execute_result"
    }
   ],
   "source": [
    "idades_proximo_ano = [(idade + 1) for idade in idades]\n",
    "idades_proximo_ano"
   ]
  },
  {
   "cell_type": "code",
   "execution_count": 23,
   "metadata": {},
   "outputs": [
    {
     "data": {
      "text/plain": [
       "[45, 60]"
      ]
     },
     "execution_count": 23,
     "metadata": {},
     "output_type": "execute_result"
    }
   ],
   "source": [
    "[idade for idade in idades if idade > 40]"
   ]
  },
  {
   "cell_type": "code",
   "execution_count": 24,
   "metadata": {},
   "outputs": [
    {
     "data": {
      "text/plain": [
       "[46, 61]"
      ]
     },
     "execution_count": 24,
     "metadata": {},
     "output_type": "execute_result"
    }
   ],
   "source": [
    "def proximo_ano(idade):\n",
    "    return idade+1\n",
    "\n",
    "[proximo_ano(idade) for idade in idades if idade > 39]"
   ]
  },
  {
   "attachments": {},
   "cell_type": "markdown",
   "metadata": {},
   "source": [
    "## Problemas da mutabilidade da lista"
   ]
  },
  {
   "cell_type": "code",
   "execution_count": 25,
   "metadata": {},
   "outputs": [],
   "source": [
    "def faz_processamento_de_visualizacao(lista):\n",
    "    print(len(lista))\n",
    "    print(lista)\n",
    "    lista.append(13)\n",
    "    print(lista)"
   ]
  },
  {
   "cell_type": "code",
   "execution_count": 26,
   "metadata": {},
   "outputs": [
    {
     "name": "stdout",
     "output_type": "stream",
     "text": [
      "5\n",
      "[16, 21, 29, 56, 43]\n",
      "[16, 21, 29, 56, 43, 13]\n"
     ]
    }
   ],
   "source": [
    "idades_original = [16,21,29,56,43]\n",
    "faz_processamento_de_visualizacao(idades_original)"
   ]
  },
  {
   "cell_type": "code",
   "execution_count": 27,
   "metadata": {},
   "outputs": [],
   "source": [
    "def faz_processamento_de_visualizacao(lista = []):\n",
    "    print(len(lista))\n",
    "    print(lista)\n",
    "    lista.append(13)\n",
    "    print(lista)"
   ]
  },
  {
   "cell_type": "code",
   "execution_count": 28,
   "metadata": {},
   "outputs": [
    {
     "name": "stdout",
     "output_type": "stream",
     "text": [
      "0\n",
      "[]\n",
      "[13]\n"
     ]
    }
   ],
   "source": [
    "faz_processamento_de_visualizacao()"
   ]
  },
  {
   "cell_type": "code",
   "execution_count": 29,
   "metadata": {},
   "outputs": [
    {
     "name": "stdout",
     "output_type": "stream",
     "text": [
      "1\n",
      "[13]\n",
      "[13, 13]\n"
     ]
    }
   ],
   "source": [
    "faz_processamento_de_visualizacao()"
   ]
  },
  {
   "cell_type": "code",
   "execution_count": 30,
   "metadata": {},
   "outputs": [
    {
     "name": "stdout",
     "output_type": "stream",
     "text": [
      "2\n",
      "[13, 13]\n",
      "[13, 13, 13]\n"
     ]
    }
   ],
   "source": [
    "faz_processamento_de_visualizacao()"
   ]
  },
  {
   "cell_type": "code",
   "execution_count": 31,
   "metadata": {},
   "outputs": [
    {
     "name": "stdout",
     "output_type": "stream",
     "text": [
      "3\n",
      "[13, 13, 13]\n",
      "[13, 13, 13, 13]\n"
     ]
    }
   ],
   "source": [
    "faz_processamento_de_visualizacao()"
   ]
  },
  {
   "cell_type": "code",
   "execution_count": 32,
   "metadata": {},
   "outputs": [],
   "source": [
    "def faz_processamento_de_visualizacao(lista = list()):\n",
    "    print(len(lista))\n",
    "    print(lista)\n",
    "    lista.append(13)\n",
    "    print(lista)"
   ]
  },
  {
   "cell_type": "code",
   "execution_count": 33,
   "metadata": {},
   "outputs": [
    {
     "name": "stdout",
     "output_type": "stream",
     "text": [
      "0\n",
      "[]\n",
      "[13]\n",
      "0\n",
      "[]\n",
      "[13]\n",
      "0\n",
      "[]\n",
      "[13]\n"
     ]
    }
   ],
   "source": [
    "faz_processamento_de_visualizacao(lista = list())\n",
    "faz_processamento_de_visualizacao(lista = list())\n",
    "faz_processamento_de_visualizacao(lista = list())"
   ]
  },
  {
   "cell_type": "code",
   "execution_count": 34,
   "metadata": {},
   "outputs": [],
   "source": [
    "def faz_processamento_de_visualizacao(lista = None):\n",
    "    if lista == None:\n",
    "        lista = list()\n",
    "    print(len(lista))\n",
    "    print(lista)\n",
    "    lista.append(13)\n",
    "    print(lista)"
   ]
  },
  {
   "cell_type": "code",
   "execution_count": 35,
   "metadata": {},
   "outputs": [
    {
     "name": "stdout",
     "output_type": "stream",
     "text": [
      "0\n",
      "[]\n",
      "[13]\n",
      "0\n",
      "[]\n",
      "[13]\n",
      "0\n",
      "[]\n",
      "[13]\n",
      "0\n",
      "[]\n",
      "[13]\n"
     ]
    }
   ],
   "source": [
    "faz_processamento_de_visualizacao()\n",
    "faz_processamento_de_visualizacao()\n",
    "faz_processamento_de_visualizacao()\n",
    "faz_processamento_de_visualizacao()"
   ]
  },
  {
   "attachments": {},
   "cell_type": "markdown",
   "metadata": {},
   "source": [
    "## OBJETOS PRÓPRIOS"
   ]
  },
  {
   "cell_type": "code",
   "execution_count": 40,
   "metadata": {},
   "outputs": [],
   "source": [
    "class ContaCorrente: # Definimos a classe\n",
    "\n",
    "    def __init__(self, codigo): # Aqui definimos seu contrutor\n",
    "        self.codigo = codigo\n",
    "        self.saldo = 0\n",
    "\n",
    "    def deposita(self, valor): # Aqui definimos um método para esta classe\n",
    "        self.saldo += valor\n",
    "\n",
    "    def __str__(self): # E aqui definimos sua representação de string\n",
    "        return f'[>>Código {self.codigo} / Saldo R$ {self.saldo}<<]'"
   ]
  },
  {
   "cell_type": "code",
   "execution_count": 41,
   "metadata": {},
   "outputs": [
    {
     "name": "stdout",
     "output_type": "stream",
     "text": [
      "[>>Código 23 / Saldo R$ 0<<]\n"
     ]
    }
   ],
   "source": [
    "conta_rodrigo = ContaCorrente(23)\n",
    "print(conta_rodrigo)"
   ]
  },
  {
   "cell_type": "code",
   "execution_count": 42,
   "metadata": {},
   "outputs": [
    {
     "name": "stdout",
     "output_type": "stream",
     "text": [
      "[>>Código 23 / Saldo R$ 900<<]\n"
     ]
    }
   ],
   "source": [
    "conta_rodrigo.deposita(900)\n",
    "print(conta_rodrigo)"
   ]
  },
  {
   "cell_type": "code",
   "execution_count": 43,
   "metadata": {},
   "outputs": [
    {
     "name": "stdout",
     "output_type": "stream",
     "text": [
      "[>>Código 46785 / Saldo R$ 1200<<]\n"
     ]
    }
   ],
   "source": [
    "conta_sara = ContaCorrente(46785)\n",
    "conta_sara.deposita(1200)\n",
    "print(conta_sara)"
   ]
  },
  {
   "cell_type": "code",
   "execution_count": 44,
   "metadata": {},
   "outputs": [
    {
     "name": "stdout",
     "output_type": "stream",
     "text": [
      "[<__main__.ContaCorrente object at 0x103ce8d10>, <__main__.ContaCorrente object at 0x103da5590>]\n"
     ]
    }
   ],
   "source": [
    "# Assim, ele retorna cada OBJETO (e sua posição na memória)\n",
    "contas = [conta_rodrigo, conta_sara]\n",
    "print(contas)"
   ]
  },
  {
   "cell_type": "code",
   "execution_count": 45,
   "metadata": {},
   "outputs": [
    {
     "name": "stdout",
     "output_type": "stream",
     "text": [
      "[>>Código 23 / Saldo R$ 900<<]\n",
      "[>>Código 46785 / Saldo R$ 1200<<]\n"
     ]
    }
   ],
   "source": [
    "# E assim, o print de um objeto específico, retorna a representação de string dele\n",
    "contas = [conta_rodrigo, conta_sara]\n",
    "for conta in contas:\n",
    "    print(conta)"
   ]
  },
  {
   "cell_type": "code",
   "execution_count": 46,
   "metadata": {},
   "outputs": [
    {
     "name": "stdout",
     "output_type": "stream",
     "text": [
      "[>>Código 23 / Saldo R$ 900<<]\n",
      "[>>Código 46785 / Saldo R$ 1200<<]\n",
      "[>>Código 23 / Saldo R$ 900<<]\n"
     ]
    }
   ],
   "source": [
    "# Aqui só existe 2 objetos, um conta_sara e um conta_rodrigo, pois da forma que foi feito eu não instanciei duas conta_rodrigo, apenas listei (referenciei) ele duas vezes. Isso pode ser perigoso, devido mutabilidade\n",
    "\n",
    "contas = [conta_rodrigo, conta_sara, conta_rodrigo]\n",
    "print(contas[0])\n",
    "print(contas[1])\n",
    "print(contas[2])"
   ]
  },
  {
   "cell_type": "code",
   "execution_count": 47,
   "metadata": {},
   "outputs": [
    {
     "name": "stdout",
     "output_type": "stream",
     "text": [
      "[>>Código 23 / Saldo R$ 1800<<]\n",
      "[>>Código 23 / Saldo R$ 1800<<]\n"
     ]
    }
   ],
   "source": [
    "contas[2].deposita(900)\n",
    "print(contas[0])\n",
    "print(contas[2])"
   ]
  },
  {
   "cell_type": "code",
   "execution_count": 52,
   "metadata": {},
   "outputs": [
    {
     "name": "stdout",
     "output_type": "stream",
     "text": [
      "[>>Código 23 / Saldo R$ 2100<<] [>>Código 46785 / Saldo R$ 1500<<]\n",
      "[>>Código 23 / Saldo R$ 2400<<] [>>Código 46785 / Saldo R$ 1800<<]\n"
     ]
    }
   ],
   "source": [
    "def deposita_para_todas(contas):\n",
    "    for conta in contas:\n",
    "        conta.deposita(300)\n",
    "\n",
    "contas = [conta_rodrigo, conta_sara]\n",
    "print(contas[0], contas[1])\n",
    "deposita_para_todas(contas)\n",
    "print(contas[0], contas[1])"
   ]
  },
  {
   "cell_type": "code",
   "execution_count": 53,
   "metadata": {},
   "outputs": [
    {
     "name": "stdout",
     "output_type": "stream",
     "text": [
      "96 [>>Código 23 / Saldo R$ 2400<<] [>>Código 46785 / Saldo R$ 1800<<]\n"
     ]
    }
   ],
   "source": [
    "# Neste exemplo, agora \"contas\" recebe na posição 0 o número da agência 96\n",
    "contas.insert(0, 96)\n",
    "print(contas[0], contas[1], contas[2])"
   ]
  },
  {
   "cell_type": "code",
   "execution_count": 54,
   "metadata": {},
   "outputs": [
    {
     "ename": "AttributeError",
     "evalue": "'int' object has no attribute 'deposita'",
     "output_type": "error",
     "traceback": [
      "\u001b[0;31m---------------------------------------------------------------------------\u001b[0m",
      "\u001b[0;31mAttributeError\u001b[0m                            Traceback (most recent call last)",
      "Cell \u001b[0;32mIn[54], line 1\u001b[0m\n\u001b[0;32m----> 1\u001b[0m deposita_para_todas(contas)\n\u001b[1;32m      2\u001b[0m \u001b[39mprint\u001b[39m(contas[\u001b[39m0\u001b[39m], contas[\u001b[39m1\u001b[39m], contas[\u001b[39m2\u001b[39m])\n",
      "Cell \u001b[0;32mIn[52], line 3\u001b[0m, in \u001b[0;36mdeposita_para_todas\u001b[0;34m(contas)\u001b[0m\n\u001b[1;32m      1\u001b[0m \u001b[39mdef\u001b[39;00m \u001b[39mdeposita_para_todas\u001b[39m(contas):\n\u001b[1;32m      2\u001b[0m     \u001b[39mfor\u001b[39;00m conta \u001b[39min\u001b[39;00m contas:\n\u001b[0;32m----> 3\u001b[0m         conta\u001b[39m.\u001b[39;49mdeposita(\u001b[39m300\u001b[39m)\n",
      "\u001b[0;31mAttributeError\u001b[0m: 'int' object has no attribute 'deposita'"
     ]
    }
   ],
   "source": [
    "deposita_para_todas(contas)\n",
    "print(contas[0], contas[1], contas[2])"
   ]
  },
  {
   "attachments": {},
   "cell_type": "markdown",
   "metadata": {},
   "source": [
    "## TUPLAS\n",
    "### Além de ser imutáveis, as posições dos itens normalmente são \"fixas\", como indicando categoria para cada índice (0 - nome, 1 - idade, 2 - sexo, 4 - endereço, etc...)"
   ]
  },
  {
   "cell_type": "code",
   "execution_count": 55,
   "metadata": {},
   "outputs": [
    {
     "ename": "AttributeError",
     "evalue": "'tuple' object has no attribute 'append'",
     "output_type": "error",
     "traceback": [
      "\u001b[0;31m---------------------------------------------------------------------------\u001b[0m",
      "\u001b[0;31mAttributeError\u001b[0m                            Traceback (most recent call last)",
      "Cell \u001b[0;32mIn[55], line 3\u001b[0m\n\u001b[1;32m      1\u001b[0m rodrigo \u001b[39m=\u001b[39m (\u001b[39m'\u001b[39m\u001b[39mRodrigo\u001b[39m\u001b[39m'\u001b[39m, \u001b[39m41\u001b[39m, \u001b[39m1981\u001b[39m)\n\u001b[1;32m      2\u001b[0m sara \u001b[39m=\u001b[39m (\u001b[39m'\u001b[39m\u001b[39mSara\u001b[39m\u001b[39m'\u001b[39m, \u001b[39m46\u001b[39m, \u001b[39m1976\u001b[39m)\n\u001b[0;32m----> 3\u001b[0m rodrigo\u001b[39m.\u001b[39;49mappend(\u001b[39m4545\u001b[39m)\n",
      "\u001b[0;31mAttributeError\u001b[0m: 'tuple' object has no attribute 'append'"
     ]
    }
   ],
   "source": [
    "rodrigo = ('Rodrigo', 41, 1981)\n",
    "sara = ('Sara', 46, 1976)\n",
    "rodrigo.append(4545)"
   ]
  },
  {
   "cell_type": "code",
   "execution_count": null,
   "metadata": {},
   "outputs": [],
   "source": [
    "# melissa = (12, 'Melissa', 2010)\n",
    "# Isso é muito ruim, pois não está obedecendo o padrão que eu mesmo criei de nome, idade, ano."
   ]
  },
  {
   "cell_type": "code",
   "execution_count": 56,
   "metadata": {},
   "outputs": [
    {
     "data": {
      "text/plain": [
       "900"
      ]
     },
     "execution_count": 56,
     "metadata": {},
     "output_type": "execute_result"
    }
   ],
   "source": [
    "conta_rodrigo = (15, 900)\n",
    "\n",
    "# conta_rodrigo.deposita() # Seria uma variação de Orientação a Objetos, mas NÃO funciona, pois tupla não tem método.\n",
    "\n",
    "conta_rodrigo[1] # Acesso dentro da tupla funciona."
   ]
  },
  {
   "cell_type": "code",
   "execution_count": 58,
   "metadata": {},
   "outputs": [
    {
     "ename": "TypeError",
     "evalue": "'tuple' object does not support item assignment",
     "output_type": "error",
     "traceback": [
      "\u001b[0;31m---------------------------------------------------------------------------\u001b[0m",
      "\u001b[0;31mTypeError\u001b[0m                                 Traceback (most recent call last)",
      "Cell \u001b[0;32mIn[58], line 1\u001b[0m\n\u001b[0;32m----> 1\u001b[0m conta_rodrigo[\u001b[39m1\u001b[39;49m] \u001b[39m+\u001b[39m\u001b[39m=\u001b[39m \u001b[39m300\u001b[39m\n",
      "\u001b[0;31mTypeError\u001b[0m: 'tuple' object does not support item assignment"
     ]
    }
   ],
   "source": [
    "conta_rodrigo[1] += 300"
   ]
  },
  {
   "cell_type": "code",
   "execution_count": 59,
   "metadata": {},
   "outputs": [],
   "source": [
    "def deposita(conta): # Variação \"Funcional\" (separando o comportamento dos dados)\n",
    "    novo_saldo = conta[1] + 300\n",
    "    codigo = conta[0]\n",
    "    return (codigo, novo_saldo) # Nova tupla"
   ]
  },
  {
   "cell_type": "code",
   "execution_count": 60,
   "metadata": {},
   "outputs": [
    {
     "data": {
      "text/plain": [
       "(15, 1200)"
      ]
     },
     "execution_count": 60,
     "metadata": {},
     "output_type": "execute_result"
    }
   ],
   "source": [
    "deposita(conta_rodrigo)"
   ]
  },
  {
   "cell_type": "code",
   "execution_count": 61,
   "metadata": {},
   "outputs": [
    {
     "data": {
      "text/plain": [
       "(15, 900)"
      ]
     },
     "execution_count": 61,
     "metadata": {},
     "output_type": "execute_result"
    }
   ],
   "source": [
    "conta_rodrigo"
   ]
  },
  {
   "cell_type": "code",
   "execution_count": 62,
   "metadata": {},
   "outputs": [
    {
     "data": {
      "text/plain": [
       "(15, 1200)"
      ]
     },
     "execution_count": 62,
     "metadata": {},
     "output_type": "execute_result"
    }
   ],
   "source": [
    "conta_rodrigo = deposita(conta_rodrigo)\n",
    "conta_rodrigo"
   ]
  },
  {
   "attachments": {},
   "cell_type": "markdown",
   "metadata": {},
   "source": [
    "## MISTURAS"
   ]
  },
  {
   "cell_type": "code",
   "execution_count": 64,
   "metadata": {},
   "outputs": [
    {
     "data": {
      "text/plain": [
       "[('Rodrigo', 41, 1981), ('Sara', 46, 1976)]"
      ]
     },
     "execution_count": 64,
     "metadata": {},
     "output_type": "execute_result"
    }
   ],
   "source": [
    "usuarios = [rodrigo, sara] #Tuplas dentro de lista\n",
    "usuarios"
   ]
  },
  {
   "cell_type": "code",
   "execution_count": 66,
   "metadata": {},
   "outputs": [],
   "source": [
    "usuarios.append(('Miguel', 10, 20213))"
   ]
  },
  {
   "cell_type": "code",
   "execution_count": 67,
   "metadata": {},
   "outputs": [
    {
     "data": {
      "text/plain": [
       "[('Rodrigo', 41, 1981), ('Sara', 46, 1976), ('Miguel', 10, 20213)]"
      ]
     },
     "execution_count": 67,
     "metadata": {},
     "output_type": "execute_result"
    }
   ],
   "source": [
    "usuarios"
   ]
  },
  {
   "cell_type": "code",
   "execution_count": 68,
   "metadata": {},
   "outputs": [
    {
     "ename": "TypeError",
     "evalue": "'tuple' object does not support item assignment",
     "output_type": "error",
     "traceback": [
      "\u001b[0;31m---------------------------------------------------------------------------\u001b[0m",
      "\u001b[0;31mTypeError\u001b[0m                                 Traceback (most recent call last)",
      "Cell \u001b[0;32mIn[68], line 1\u001b[0m\n\u001b[0;32m----> 1\u001b[0m usuarios[\u001b[39m0\u001b[39;49m][\u001b[39m0\u001b[39;49m] \u001b[39m=\u001b[39m \u001b[39m'\u001b[39m\u001b[39mRodrigo A. Tenório\u001b[39m\u001b[39m'\u001b[39m\n",
      "\u001b[0;31mTypeError\u001b[0m: 'tuple' object does not support item assignment"
     ]
    }
   ],
   "source": [
    "usuarios[0][0] = 'Rodrigo A. Tenório'"
   ]
  },
  {
   "cell_type": "code",
   "execution_count": 69,
   "metadata": {},
   "outputs": [],
   "source": [
    "conta_rodrigo = ContaCorrente(36)\n",
    "conta_rodrigo.deposita(600)\n",
    "conta_sara = ContaCorrente(45967)\n",
    "conta_sara.deposita(3000)\n",
    "\n",
    "contas = (conta_rodrigo, conta_sara)"
   ]
  },
  {
   "cell_type": "code",
   "execution_count": 70,
   "metadata": {},
   "outputs": [
    {
     "data": {
      "text/plain": [
       "(<__main__.ContaCorrente at 0x103cb4f50>,\n",
       " <__main__.ContaCorrente at 0x106273110>)"
      ]
     },
     "execution_count": 70,
     "metadata": {},
     "output_type": "execute_result"
    }
   ],
   "source": [
    "contas"
   ]
  },
  {
   "cell_type": "code",
   "execution_count": 71,
   "metadata": {},
   "outputs": [
    {
     "name": "stdout",
     "output_type": "stream",
     "text": [
      "[>>Código 36 / Saldo R$ 600<<]\n",
      "[>>Código 45967 / Saldo R$ 3000<<]\n"
     ]
    }
   ],
   "source": [
    "for conta in contas:\n",
    "    print(conta)"
   ]
  },
  {
   "cell_type": "code",
   "execution_count": 72,
   "metadata": {},
   "outputs": [
    {
     "ename": "AttributeError",
     "evalue": "'tuple' object has no attribute 'append'",
     "output_type": "error",
     "traceback": [
      "\u001b[0;31m---------------------------------------------------------------------------\u001b[0m",
      "\u001b[0;31mAttributeError\u001b[0m                            Traceback (most recent call last)",
      "Cell \u001b[0;32mIn[72], line 1\u001b[0m\n\u001b[0;32m----> 1\u001b[0m contas\u001b[39m.\u001b[39;49mappend(\u001b[39m12890\u001b[39m)\n",
      "\u001b[0;31mAttributeError\u001b[0m: 'tuple' object has no attribute 'append'"
     ]
    }
   ],
   "source": [
    "contas.append(12890)"
   ]
  },
  {
   "cell_type": "code",
   "execution_count": 73,
   "metadata": {},
   "outputs": [
    {
     "data": {
      "text/plain": [
       "(<__main__.ContaCorrente at 0x103cb4f50>,\n",
       " <__main__.ContaCorrente at 0x106273110>)"
      ]
     },
     "execution_count": 73,
     "metadata": {},
     "output_type": "execute_result"
    }
   ],
   "source": [
    "contas[0].deposita(450)\n",
    "contas"
   ]
  },
  {
   "cell_type": "code",
   "execution_count": 74,
   "metadata": {},
   "outputs": [
    {
     "name": "stdout",
     "output_type": "stream",
     "text": [
      "[>>Código 36 / Saldo R$ 1050<<]\n",
      "[>>Código 45967 / Saldo R$ 3000<<]\n"
     ]
    }
   ],
   "source": [
    "for conta in contas:\n",
    "    print(conta)"
   ]
  },
  {
   "attachments": {},
   "cell_type": "markdown",
   "metadata": {},
   "source": [
    "## HERANÇA E POLIMORFISMO"
   ]
  },
  {
   "cell_type": "code",
   "execution_count": 2,
   "metadata": {},
   "outputs": [],
   "source": [
    "class Conta: # Definimos a classe\n",
    "\n",
    "    def __init__(self, codigo): # Aqui definimos seu contrutor\n",
    "        self._codigo = codigo # _ antes de codigo torna \"privado\"\n",
    "        self._saldo = 0\n",
    "\n",
    "    def deposita(self, valor): # Aqui definimos um método para esta classe\n",
    "        self._saldo += valor\n",
    "\n",
    "    def __str__(self): # E aqui definimos sua representação de string\n",
    "        return f'[>>Código {self._codigo} / Saldo R$ {self._saldo}<<]'"
   ]
  },
  {
   "cell_type": "code",
   "execution_count": 3,
   "metadata": {},
   "outputs": [
    {
     "name": "stdout",
     "output_type": "stream",
     "text": [
      "[>>Código 93 / Saldo R$ 0<<]\n"
     ]
    }
   ],
   "source": [
    "print(Conta(93))"
   ]
  },
  {
   "cell_type": "code",
   "execution_count": 5,
   "metadata": {},
   "outputs": [],
   "source": [
    "class ContaCorrente(Conta):\n",
    "\n",
    "    def passa_mes(self):\n",
    "        self._saldo -= 2\n",
    "\n",
    "class ContaPoupanca(Conta):\n",
    "\n",
    "    def passa_mes(self):\n",
    "        self._saldo *= 1.01\n",
    "        self._saldo -= 3"
   ]
  },
  {
   "cell_type": "code",
   "execution_count": 6,
   "metadata": {},
   "outputs": [
    {
     "name": "stdout",
     "output_type": "stream",
     "text": [
      "[>>Código 15 / Saldo R$ 1198<<]\n"
     ]
    }
   ],
   "source": [
    "conta15 = ContaCorrente(15)\n",
    "conta15.deposita(1200)\n",
    "conta15.passa_mes()\n",
    "print(conta15)"
   ]
  },
  {
   "cell_type": "code",
   "execution_count": 7,
   "metadata": {},
   "outputs": [
    {
     "name": "stdout",
     "output_type": "stream",
     "text": [
      "[>>Código 18 / Saldo R$ 1209.0<<]\n"
     ]
    }
   ],
   "source": [
    "conta18 = ContaPoupanca(18)\n",
    "conta18.deposita(1200)\n",
    "conta18.passa_mes()\n",
    "print(conta18)"
   ]
  },
  {
   "cell_type": "code",
   "execution_count": 9,
   "metadata": {},
   "outputs": [
    {
     "name": "stdout",
     "output_type": "stream",
     "text": [
      "[>>Código 15 / Saldo R$ 1198<<]\n",
      "[>>Código 18 / Saldo R$ 1209.0<<]\n"
     ]
    }
   ],
   "source": [
    "conta15 = ContaCorrente(15)\n",
    "conta15.deposita(1200)\n",
    "conta18 = ContaPoupanca(18)\n",
    "conta18.deposita(1200)\n",
    "contas = [conta15, conta18]\n",
    "\n",
    "for conta in contas:\n",
    "    conta.passa_mes() # duck typing\n",
    "    print(conta)"
   ]
  },
  {
   "attachments": {},
   "cell_type": "markdown",
   "metadata": {},
   "source": [
    "## ARRAYS E NUMPY\n",
    "### Evite usar o Array padrão do Python!\n",
    "### Para trabalhos numéricos de alto desempenho, o costume é usar NumPy."
   ]
  },
  {
   "cell_type": "code",
   "execution_count": 12,
   "metadata": {},
   "outputs": [
    {
     "data": {
      "text/plain": [
       "array('d', [1.0, 3.5])"
      ]
     },
     "execution_count": 12,
     "metadata": {},
     "output_type": "execute_result"
    }
   ],
   "source": [
    "import array as arr\n",
    "\n",
    "arr.array('d', [1, 3.5]) # O Array obriga a indicar o tipo de dados com objetivo de otimizar o processamento, sobretudo em questões envolvendo números. Mas ainda assim, se o objetivo for desempenho, é mais aconselhável usar o NumPy."
   ]
  },
  {
   "cell_type": "code",
   "execution_count": 15,
   "metadata": {},
   "outputs": [
    {
     "name": "stdout",
     "output_type": "stream",
     "text": [
      "Collecting numpy\n",
      "  Downloading numpy-1.24.2-cp311-cp311-macosx_10_9_x86_64.whl (19.8 MB)\n",
      "\u001b[2K     \u001b[90m━━━━━━━━━━━━━━━━━━━━━━━━━━━━━━━━━━━━━━━━\u001b[0m \u001b[32m19.8/19.8 MB\u001b[0m \u001b[31m5.9 MB/s\u001b[0m eta \u001b[36m0:00:00\u001b[0m00:01\u001b[0m00:01\u001b[0m\n",
      "\u001b[?25hInstalling collected packages: numpy\n",
      "Successfully installed numpy-1.24.2\n",
      "\n",
      "\u001b[1m[\u001b[0m\u001b[34;49mnotice\u001b[0m\u001b[1;39;49m]\u001b[0m\u001b[39;49m A new release of pip available: \u001b[0m\u001b[31;49m22.3.1\u001b[0m\u001b[39;49m -> \u001b[0m\u001b[32;49m23.0.1\u001b[0m\n",
      "\u001b[1m[\u001b[0m\u001b[34;49mnotice\u001b[0m\u001b[1;39;49m]\u001b[0m\u001b[39;49m To update, run: \u001b[0m\u001b[32;49mpip3 install --upgrade pip\u001b[0m\n",
      "Note: you may need to restart the kernel to use updated packages.\n"
     ]
    }
   ],
   "source": [
    "pip install numpy # As vezes devemos usar !pip para instalação dentro do Jupyter Notebook. Mas aqui testando no VS Code (em Mac) não foi necessário."
   ]
  },
  {
   "cell_type": "code",
   "execution_count": 19,
   "metadata": {},
   "outputs": [
    {
     "data": {
      "text/plain": [
       "array([1. , 3.5])"
      ]
     },
     "execution_count": 19,
     "metadata": {},
     "output_type": "execute_result"
    }
   ],
   "source": [
    "import numpy as np\n",
    "\n",
    "numeros = np.array([1, 3.5])\n",
    "numeros"
   ]
  },
  {
   "cell_type": "code",
   "execution_count": 20,
   "metadata": {},
   "outputs": [
    {
     "data": {
      "text/plain": [
       "array([4. , 6.5])"
      ]
     },
     "execution_count": 20,
     "metadata": {},
     "output_type": "execute_result"
    }
   ],
   "source": [
    "numeros + 3"
   ]
  },
  {
   "attachments": {},
   "cell_type": "markdown",
   "metadata": {},
   "source": [
    "## MÉTODO ABSTRATO"
   ]
  },
  {
   "cell_type": "code",
   "execution_count": 23,
   "metadata": {},
   "outputs": [],
   "source": [
    "from abc import ABCMeta, abstractmethod"
   ]
  },
  {
   "cell_type": "code",
   "execution_count": 24,
   "metadata": {},
   "outputs": [],
   "source": [
    "class Conta(metaclass=ABCMeta):\n",
    "\n",
    "    def __init__(self, codigo): \n",
    "        self._codigo = codigo\n",
    "        self._saldo = 0\n",
    "\n",
    "    def deposita(self, valor):\n",
    "        self._saldo += valor\n",
    "\n",
    "    @abstractmethod\n",
    "    def passa_mes(self):\n",
    "        pass\n",
    "\n",
    "    def __str__(self):\n",
    "        return f'[>>Código {self._codigo} / Saldo R$ {self._saldo}<<]'"
   ]
  },
  {
   "cell_type": "code",
   "execution_count": 38,
   "metadata": {},
   "outputs": [],
   "source": [
    "class ContaInvestimento(Conta):\n",
    "    pass"
   ]
  },
  {
   "cell_type": "code",
   "execution_count": 41,
   "metadata": {},
   "outputs": [
    {
     "ename": "TypeError",
     "evalue": "Can't instantiate abstract class ContaInvestimento with abstract method passa_mes",
     "output_type": "error",
     "traceback": [
      "\u001b[0;31m---------------------------------------------------------------------------\u001b[0m",
      "\u001b[0;31mTypeError\u001b[0m                                 Traceback (most recent call last)",
      "Cell \u001b[0;32mIn[41], line 1\u001b[0m\n\u001b[0;32m----> 1\u001b[0m conta63 \u001b[39m=\u001b[39m ContaInvestimento(\u001b[39m63\u001b[39;49m)\n\u001b[1;32m      2\u001b[0m conta63\u001b[39m.\u001b[39mdeposita(\u001b[39m200\u001b[39m)\n\u001b[1;32m      3\u001b[0m \u001b[39mprint\u001b[39m(conta63)\n",
      "\u001b[0;31mTypeError\u001b[0m: Can't instantiate abstract class ContaInvestimento with abstract method passa_mes"
     ]
    }
   ],
   "source": [
    "conta63 = ContaInvestimento(63)\n",
    "conta63.deposita(200)\n",
    "print(conta63)"
   ]
  },
  {
   "attachments": {},
   "cell_type": "markdown",
   "metadata": {},
   "source": [
    "## IGUALDADE E O __EQ__"
   ]
  },
  {
   "cell_type": "code",
   "execution_count": 43,
   "metadata": {},
   "outputs": [],
   "source": [
    "class ContaSalario:\n",
    "\n",
    "    def __init__(self, codigo):\n",
    "        self._codigo = codigo\n",
    "        self._saldo = 0\n",
    "\n",
    "    def deposita(self, valor):\n",
    "        self._saldo += valor\n",
    "\n",
    "    def __str__(self):\n",
    "        return f'[>>Código {self._codigo} / Saldo R$ {self._saldo}<<]'"
   ]
  },
  {
   "cell_type": "code",
   "execution_count": 46,
   "metadata": {},
   "outputs": [
    {
     "name": "stdout",
     "output_type": "stream",
     "text": [
      "[>>Código 37 / Saldo R$ 0<<]\n"
     ]
    }
   ],
   "source": [
    "conta1 = ContaSalario(37)\n",
    "print(conta1)"
   ]
  },
  {
   "cell_type": "code",
   "execution_count": 47,
   "metadata": {},
   "outputs": [
    {
     "name": "stdout",
     "output_type": "stream",
     "text": [
      "[>>Código 37 / Saldo R$ 0<<]\n"
     ]
    }
   ],
   "source": [
    "conta2 = ContaSalario(37)\n",
    "print(conta2)"
   ]
  },
  {
   "cell_type": "code",
   "execution_count": 48,
   "metadata": {},
   "outputs": [
    {
     "data": {
      "text/plain": [
       "False"
      ]
     },
     "execution_count": 48,
     "metadata": {},
     "output_type": "execute_result"
    }
   ],
   "source": [
    "conta1 == conta2 # Independente de terem os mesmos valores, cada um é um objeto e, portanto, a comparação simples (==) vai dar False."
   ]
  },
  {
   "cell_type": "code",
   "execution_count": 49,
   "metadata": {},
   "outputs": [
    {
     "data": {
      "text/plain": [
       "True"
      ]
     },
     "execution_count": 49,
     "metadata": {},
     "output_type": "execute_result"
    }
   ],
   "source": [
    "contas = [conta1]\n",
    "conta1 in contas"
   ]
  },
  {
   "cell_type": "code",
   "execution_count": 50,
   "metadata": {},
   "outputs": [
    {
     "data": {
      "text/plain": [
       "False"
      ]
     },
     "execution_count": 50,
     "metadata": {},
     "output_type": "execute_result"
    }
   ],
   "source": [
    "conta2 in contas"
   ]
  },
  {
   "cell_type": "code",
   "execution_count": 55,
   "metadata": {},
   "outputs": [],
   "source": [
    "class ContaSalarioMelhor:\n",
    "\n",
    "    def __init__(self, codigo):\n",
    "        self._codigo = codigo\n",
    "        self._saldo = 0\n",
    "\n",
    "    def __eq__(self, outro): # Método __eq__ nos permite definir parâmetros de igualdade entre ojetos. Ou seja, isso ocorre para os quesitos que nos escolhermos, não exatamemte comparar os objetos em si, já que esses sempre serão únicos.\n",
    "        return self._codigo == outro._codigo\n",
    "\n",
    "    def deposita(self, valor):\n",
    "        self._saldo += valor\n",
    "\n",
    "    def __str__(self):\n",
    "        return f'[>>Código {self._codigo} / Saldo R$ {self._saldo}<<]'"
   ]
  },
  {
   "cell_type": "code",
   "execution_count": 56,
   "metadata": {},
   "outputs": [
    {
     "name": "stdout",
     "output_type": "stream",
     "text": [
      "[>>Código 69 / Saldo R$ 0<<]\n"
     ]
    }
   ],
   "source": [
    "conta3 = ContaSalarioMelhor(69)\n",
    "print(conta3)"
   ]
  },
  {
   "cell_type": "code",
   "execution_count": 57,
   "metadata": {},
   "outputs": [
    {
     "name": "stdout",
     "output_type": "stream",
     "text": [
      "[>>Código 69 / Saldo R$ 0<<]\n"
     ]
    }
   ],
   "source": [
    "conta4 = ContaSalarioMelhor(69)\n",
    "print(conta4)"
   ]
  },
  {
   "cell_type": "code",
   "execution_count": 59,
   "metadata": {},
   "outputs": [
    {
     "data": {
      "text/plain": [
       "True"
      ]
     },
     "execution_count": 59,
     "metadata": {},
     "output_type": "execute_result"
    }
   ],
   "source": [
    "conta3 == conta4 # Agora, devido implementação do método __eq__ com um valor de igualdade, a comparação retorna True."
   ]
  },
  {
   "cell_type": "code",
   "execution_count": 60,
   "metadata": {},
   "outputs": [
    {
     "data": {
      "text/plain": [
       "False"
      ]
     },
     "execution_count": 60,
     "metadata": {},
     "output_type": "execute_result"
    }
   ],
   "source": [
    "conta3 != conta4"
   ]
  },
  {
   "cell_type": "code",
   "execution_count": 61,
   "metadata": {},
   "outputs": [],
   "source": [
    "contas = [conta3]"
   ]
  },
  {
   "cell_type": "code",
   "execution_count": 62,
   "metadata": {},
   "outputs": [
    {
     "data": {
      "text/plain": [
       "True"
      ]
     },
     "execution_count": 62,
     "metadata": {},
     "output_type": "execute_result"
    }
   ],
   "source": [
    "conta3 in contas"
   ]
  },
  {
   "cell_type": "code",
   "execution_count": 63,
   "metadata": {},
   "outputs": [
    {
     "data": {
      "text/plain": [
       "True"
      ]
     },
     "execution_count": 63,
     "metadata": {},
     "output_type": "execute_result"
    }
   ],
   "source": [
    "conta4 in contas"
   ]
  },
  {
   "cell_type": "code",
   "execution_count": 64,
   "metadata": {},
   "outputs": [],
   "source": [
    "class ContaSalarioMelhorAinda:\n",
    "\n",
    "    def __init__(self, codigo):\n",
    "        self._codigo = codigo\n",
    "        self._saldo = 0\n",
    "\n",
    "    def __eq__(self, outro): # Método __eq__ nos permite definir parâmetros de igualdade entre ojetos. Ou seja, isso ocorre para os quesitos que nos escolhermos, não exatamemte comparar os objetos em si, já que esses sempre serão únicos.\n",
    "        return self._codigo == outro._codigo and self._saldo == outro._saldo # Estas comparações e validações vão depender das regras de negócio.\n",
    "\n",
    "    def deposita(self, valor):\n",
    "        self._saldo += valor\n",
    "\n",
    "    def __str__(self):\n",
    "        return f'[>>Código {self._codigo} / Saldo R$ {self._saldo}<<]'"
   ]
  },
  {
   "cell_type": "code",
   "execution_count": 66,
   "metadata": {},
   "outputs": [
    {
     "name": "stdout",
     "output_type": "stream",
     "text": [
      "[>>Código 72 / Saldo R$ 720<<]\n"
     ]
    }
   ],
   "source": [
    "conta5 = ContaSalarioMelhorAinda(72)\n",
    "conta5.deposita(720)\n",
    "print(conta5)"
   ]
  },
  {
   "cell_type": "code",
   "execution_count": 68,
   "metadata": {},
   "outputs": [
    {
     "name": "stdout",
     "output_type": "stream",
     "text": [
      "[>>Código 72 / Saldo R$ 330<<]\n"
     ]
    }
   ],
   "source": [
    "conta6 = ContaSalarioMelhorAinda(72)\n",
    "conta6.deposita(330)\n",
    "print(conta6)"
   ]
  },
  {
   "cell_type": "code",
   "execution_count": 69,
   "metadata": {},
   "outputs": [
    {
     "data": {
      "text/plain": [
       "False"
      ]
     },
     "execution_count": 69,
     "metadata": {},
     "output_type": "execute_result"
    }
   ],
   "source": [
    "conta5 == conta6"
   ]
  },
  {
   "cell_type": "code",
   "execution_count": 46,
   "metadata": {},
   "outputs": [],
   "source": [
    "class ContaSalarioMelhorAindaMais:\n",
    "\n",
    "    def __init__(self, codigo):\n",
    "        self._codigo = codigo\n",
    "        self._saldo = 0\n",
    "\n",
    "    def __eq__(self, outro):\n",
    "        if type(outro) != ContaSalarioMelhorAindaMais: # Comparação do tipo dos objetos e isso deve ser a primeira validação.\n",
    "            return False\n",
    "        \n",
    "        return self._codigo == outro._codigo and self._saldo == outro._saldo\n",
    "\n",
    "    def deposita(self, valor):\n",
    "        self._saldo += valor\n",
    "\n",
    "    def __str__(self):\n",
    "        return f'[>>Código {self._codigo} / Saldo R$ {self._saldo}<<]'"
   ]
  },
  {
   "cell_type": "code",
   "execution_count": 73,
   "metadata": {},
   "outputs": [],
   "source": [
    "conta7 = ContaSalarioMelhorAindaMais(39)\n",
    "conta8 = ContaSalario(39)"
   ]
  },
  {
   "cell_type": "code",
   "execution_count": 74,
   "metadata": {},
   "outputs": [
    {
     "data": {
      "text/plain": [
       "False"
      ]
     },
     "execution_count": 74,
     "metadata": {},
     "output_type": "execute_result"
    }
   ],
   "source": [
    "conta7 == conta8"
   ]
  },
  {
   "cell_type": "code",
   "execution_count": 75,
   "metadata": {},
   "outputs": [
    {
     "name": "stdout",
     "output_type": "stream",
     "text": [
      "<class '__main__.ContaSalarioMelhorAindaMais'>\n",
      "<class '__main__.ContaSalario'>\n"
     ]
    }
   ],
   "source": [
    "print(type(conta7))\n",
    "print(type(conta8))"
   ]
  },
  {
   "cell_type": "code",
   "execution_count": 77,
   "metadata": {},
   "outputs": [],
   "source": [
    "class ContaSalarioMelhorAindaMaisMelhor:\n",
    "\n",
    "    def __init__(self, codigo):\n",
    "        self._codigo = codigo\n",
    "        self._saldo = 0\n",
    "\n",
    "    def __eq__(self, outro):\n",
    "        if type(outro) != ContaSalarioMelhorAindaMais: # Comparação do tipo dos objetos e isso deve ser a primeira validação.\n",
    "            return False\n",
    "        \n",
    "        return self._codigo == outro._codigo and self._saldo == outro._saldo\n",
    "\n",
    "    def deposita(self, valor):\n",
    "        self._saldo += valor\n",
    "\n",
    "    def __str__(self):\n",
    "        return f'[>>Código {self._codigo} / Saldo R$ {self._saldo}<<]'\n",
    "    \n",
    "class ContaMultiploSalario(ContaSalarioMelhorAindaMaisMelhor): \n",
    "    pass\n",
    "# Agora, por ContaMultiploSalario ser filha da MaisMmelhor, temos a flexibilidade de serem consideradas iguais."
   ]
  },
  {
   "cell_type": "code",
   "execution_count": 78,
   "metadata": {},
   "outputs": [],
   "source": [
    "conta9 = ContaSalarioMelhorAindaMaisMelhor(31)\n",
    "conta10 = ContaMultiploSalario(39)\n",
    "conta11 = ContaCorrente(98)"
   ]
  },
  {
   "cell_type": "code",
   "execution_count": 81,
   "metadata": {},
   "outputs": [
    {
     "name": "stdout",
     "output_type": "stream",
     "text": [
      "True\n",
      "True\n",
      "False\n"
     ]
    }
   ],
   "source": [
    "print(isinstance(conta9, ContaSalarioMelhorAindaMaisMelhor))\n",
    "print(isinstance(conta10, ContaSalarioMelhorAindaMaisMelhor))\n",
    "print(isinstance(conta11, ContaSalarioMelhorAindaMaisMelhor))\n",
    "#isinstance também é uma forma de verificar igualdade de objetos."
   ]
  },
  {
   "attachments": {},
   "cell_type": "markdown",
   "metadata": {},
   "source": [
    "## BUILTINS COMO ENUMERATED, RANGE E DESEMPACOTAMENTO AUTOMÁTICO DE TUPLAS"
   ]
  },
  {
   "cell_type": "code",
   "execution_count": 2,
   "metadata": {},
   "outputs": [
    {
     "name": "stdout",
     "output_type": "stream",
     "text": [
      "0 41\n",
      "1 46\n",
      "2 12\n",
      "3 10\n",
      "4 23\n",
      "5 39\n",
      "6 69\n",
      "7 23\n"
     ]
    }
   ],
   "source": [
    "idades = [41, 46, 12, 10, 23, 39, 69, 23]\n",
    "\n",
    "for i in range(len(idades)):\n",
    "    print(i, idades[i])"
   ]
  },
  {
   "cell_type": "code",
   "execution_count": 3,
   "metadata": {},
   "outputs": [
    {
     "data": {
      "text/plain": [
       "range"
      ]
     },
     "execution_count": 3,
     "metadata": {},
     "output_type": "execute_result"
    }
   ],
   "source": [
    "type(range(len(idades))) # lazy..."
   ]
  },
  {
   "cell_type": "code",
   "execution_count": 4,
   "metadata": {},
   "outputs": [
    {
     "data": {
      "text/plain": [
       "range(0, 8)"
      ]
     },
     "execution_count": 4,
     "metadata": {},
     "output_type": "execute_result"
    }
   ],
   "source": [
    "range(len(idades)) # lazy... Ou seja, ele é um gerador pronto para\n",
    "#retornar os valores, mas ainda não o fez, apenas fica esperando."
   ]
  },
  {
   "cell_type": "code",
   "execution_count": 6,
   "metadata": {},
   "outputs": [
    {
     "data": {
      "text/plain": [
       "<enumerate at 0x27bf4ce35b0>"
      ]
     },
     "execution_count": 6,
     "metadata": {},
     "output_type": "execute_result"
    }
   ],
   "source": [
    "enumerate(idades) # lazy..."
   ]
  },
  {
   "cell_type": "code",
   "execution_count": 8,
   "metadata": {},
   "outputs": [
    {
     "data": {
      "text/plain": [
       "[0, 1, 2, 3, 4, 5, 6, 7]"
      ]
     },
     "execution_count": 8,
     "metadata": {},
     "output_type": "execute_result"
    }
   ],
   "source": [
    "list(range(len(idades))) # Com list, forçamos a geração de valores."
   ]
  },
  {
   "cell_type": "code",
   "execution_count": 9,
   "metadata": {},
   "outputs": [
    {
     "data": {
      "text/plain": [
       "[(0, 41), (1, 46), (2, 12), (3, 10), (4, 23), (5, 39), (6, 69), (7, 23)]"
      ]
     },
     "execution_count": 9,
     "metadata": {},
     "output_type": "execute_result"
    }
   ],
   "source": [
    "list(enumerate(idades))"
   ]
  },
  {
   "cell_type": "code",
   "execution_count": 10,
   "metadata": {},
   "outputs": [
    {
     "name": "stdout",
     "output_type": "stream",
     "text": [
      "(0, 41)\n",
      "(1, 46)\n",
      "(2, 12)\n",
      "(3, 10)\n",
      "(4, 23)\n",
      "(5, 39)\n",
      "(6, 69)\n",
      "(7, 23)\n"
     ]
    }
   ],
   "source": [
    "for valor in enumerate(idades):\n",
    "    print(valor)"
   ]
  },
  {
   "cell_type": "code",
   "execution_count": 14,
   "metadata": {},
   "outputs": [
    {
     "name": "stdout",
     "output_type": "stream",
     "text": [
      "0 41\n",
      "1 46\n",
      "2 12\n",
      "3 10\n",
      "4 23\n",
      "5 39\n",
      "6 69\n",
      "7 23\n"
     ]
    }
   ],
   "source": [
    "for indice, idade in enumerate(idades):\n",
    "# Desta forma já desempacotamos a tupla.\n",
    "    print(indice, idade) "
   ]
  },
  {
   "cell_type": "code",
   "execution_count": 16,
   "metadata": {},
   "outputs": [
    {
     "name": "stdout",
     "output_type": "stream",
     "text": [
      "Rodrigo\n",
      "Leonardo\n",
      "Elaine\n"
     ]
    }
   ],
   "source": [
    "usuarios = [\n",
    "    ('Rodrigo', 41, 1981),\n",
    "    ('Leonardo', 39, 1983),\n",
    "    ('Elaine', 49, 1973)\n",
    "]\n",
    "\n",
    "for nome, idade, nascimento in usuarios:\n",
    "    print(nome)\n",
    " # Desta forma já desempacotamos a tupla e usamos só o necessário."
   ]
  },
  {
   "cell_type": "code",
   "execution_count": 17,
   "metadata": {},
   "outputs": [
    {
     "name": "stdout",
     "output_type": "stream",
     "text": [
      "Rodrigo\n",
      "Leonardo\n",
      "Elaine\n"
     ]
    }
   ],
   "source": [
    "for nome, _, _ in usuarios:\n",
    "    print(nome)\n",
    "# Já desempacotamos, mas o _ indica variáveis que devem ser ignoradas."
   ]
  },
  {
   "cell_type": "code",
   "execution_count": 19,
   "metadata": {},
   "outputs": [
    {
     "ename": "ValueError",
     "evalue": "too many values to unpack (expected 2)",
     "output_type": "error",
     "traceback": [
      "\u001b[1;31m---------------------------------------------------------------------------\u001b[0m",
      "\u001b[1;31mValueError\u001b[0m                                Traceback (most recent call last)",
      "Cell \u001b[1;32mIn[19], line 1\u001b[0m\n\u001b[1;32m----> 1\u001b[0m \u001b[39mfor\u001b[39;00m nome, _ \u001b[39min\u001b[39;00m usuarios:\n\u001b[0;32m      2\u001b[0m     \u001b[39mprint\u001b[39m(nome)\n\u001b[0;32m      3\u001b[0m \u001b[39m# Aqui deu erro porque pedimos 2 elementos, mas lista em que executamos\u001b[39;00m\n\u001b[0;32m      4\u001b[0m \u001b[39m# tem 3 elementos.\u001b[39;00m\n",
      "\u001b[1;31mValueError\u001b[0m: too many values to unpack (expected 2)"
     ]
    }
   ],
   "source": [
    "for nome, _ in usuarios:\n",
    "    print(nome)\n",
    "# Aqui deu erro porque pedimos 2 elementos, mas lista em que executamos\n",
    "# tem 3 elementos."
   ]
  },
  {
   "attachments": {},
   "cell_type": "markdown",
   "metadata": {},
   "source": [
    "## ORDENAÇÃO BÁSICA"
   ]
  },
  {
   "cell_type": "code",
   "execution_count": 3,
   "metadata": {},
   "outputs": [
    {
     "data": {
      "text/plain": [
       "[41, 46, 12, 10, 23, 39, 69, 23]"
      ]
     },
     "execution_count": 3,
     "metadata": {},
     "output_type": "execute_result"
    }
   ],
   "source": [
    "idades"
   ]
  },
  {
   "cell_type": "code",
   "execution_count": 4,
   "metadata": {},
   "outputs": [
    {
     "data": {
      "text/plain": [
       "[10, 12, 23, 23, 39, 41, 46, 69]"
      ]
     },
     "execution_count": 4,
     "metadata": {},
     "output_type": "execute_result"
    }
   ],
   "source": [
    "sorted(idades)"
   ]
  },
  {
   "cell_type": "code",
   "execution_count": 6,
   "metadata": {},
   "outputs": [
    {
     "data": {
      "text/plain": [
       "[23, 69, 39, 23, 10, 12, 46, 41]"
      ]
     },
     "execution_count": 6,
     "metadata": {},
     "output_type": "execute_result"
    }
   ],
   "source": [
    "list(reversed(idades))"
   ]
  },
  {
   "cell_type": "code",
   "execution_count": 8,
   "metadata": {},
   "outputs": [
    {
     "data": {
      "text/plain": [
       "[69, 46, 41, 39, 23, 23, 12, 10]"
      ]
     },
     "execution_count": 8,
     "metadata": {},
     "output_type": "execute_result"
    }
   ],
   "source": [
    "sorted(idades, reverse = True) # Melhor para listas pequenas."
   ]
  },
  {
   "cell_type": "code",
   "execution_count": 9,
   "metadata": {},
   "outputs": [
    {
     "data": {
      "text/plain": [
       "[69, 46, 41, 39, 23, 23, 12, 10]"
      ]
     },
     "execution_count": 9,
     "metadata": {},
     "output_type": "execute_result"
    }
   ],
   "source": [
    "list(reversed(sorted(idades)))\n",
    "# Para listas grandes ou atuar de forma mais controlada, melhor desta forma."
   ]
  },
  {
   "cell_type": "code",
   "execution_count": 10,
   "metadata": {},
   "outputs": [
    {
     "data": {
      "text/plain": [
       "[41, 46, 12, 10, 23, 39, 69, 23]"
      ]
     },
     "execution_count": 10,
     "metadata": {},
     "output_type": "execute_result"
    }
   ],
   "source": [
    "idades # Independente da escolha, a variável inicial não é alterada."
   ]
  },
  {
   "cell_type": "code",
   "execution_count": 11,
   "metadata": {},
   "outputs": [],
   "source": [
    "idades.sort() # .sort() altera a variável."
   ]
  },
  {
   "cell_type": "code",
   "execution_count": 12,
   "metadata": {},
   "outputs": [
    {
     "data": {
      "text/plain": [
       "[10, 12, 23, 23, 39, 41, 46, 69]"
      ]
     },
     "execution_count": 12,
     "metadata": {},
     "output_type": "execute_result"
    }
   ],
   "source": [
    "idades"
   ]
  },
  {
   "attachments": {},
   "cell_type": "markdown",
   "metadata": {},
   "source": [
    "## ORDENAÇÃO DE OBJETOS SEM ORDEM NATURAL"
   ]
  },
  {
   "cell_type": "code",
   "execution_count": 1,
   "metadata": {},
   "outputs": [
    {
     "data": {
      "text/plain": [
       "['Melissa', 'Miguel', 'Rodrigo', 'Sara']"
      ]
     },
     "execution_count": 1,
     "metadata": {},
     "output_type": "execute_result"
    }
   ],
   "source": [
    "nomes =['Rodrigo', 'Sara', 'Melissa','Miguel']\n",
    "sorted(nomes)"
   ]
  },
  {
   "cell_type": "code",
   "execution_count": 2,
   "metadata": {},
   "outputs": [
    {
     "data": {
      "text/plain": [
       "['Miguel', 'Sara', 'melissa', 'rodrigo']"
      ]
     },
     "execution_count": 2,
     "metadata": {},
     "output_type": "execute_result"
    }
   ],
   "source": [
    "nomes =['rodrigo', 'Sara', 'melissa','Miguel']\n",
    "sorted(nomes)"
   ]
  },
  {
   "cell_type": "code",
   "execution_count": 3,
   "metadata": {},
   "outputs": [],
   "source": [
    "class ContaSalarioMAMM:\n",
    "\n",
    "    def __init__(self, codigo):\n",
    "        self._codigo = codigo\n",
    "        self._saldo = 0\n",
    "\n",
    "    def __eq__(self, outro):\n",
    "        if type(outro) != ContaSalarioMelhorAindaMais:\n",
    "            return False\n",
    "        \n",
    "        return self._codigo == outro._codigo and self._saldo == outro._saldo\n",
    "\n",
    "    def deposita(self, valor):\n",
    "        self._saldo += valor\n",
    "\n",
    "    def __str__(self):\n",
    "        return f'[>>Código {self._codigo} / Saldo R$ {self._saldo}<<]'"
   ]
  },
  {
   "cell_type": "code",
   "execution_count": 5,
   "metadata": {},
   "outputs": [],
   "source": [
    "conta_do_rodrigo = ContaSalarioMAMM(23)\n",
    "conta_do_rodrigo.deposita(900)\n",
    "\n",
    "conta_da_sara = ContaSalarioMAMM(1)\n",
    "conta_da_sara.deposita(1500)\n",
    "\n",
    "conta_do_miguel = ContaSalarioMAMM(119)\n",
    "conta_do_miguel.deposita(450)\n",
    "\n",
    "conta_da_melissa = ContaSalarioMAMM(222)\n",
    "conta_da_melissa.deposita(600)\n",
    "\n",
    "contas = [conta_da_sara, conta_da_melissa, conta_do_miguel, conta_do_rodrigo]"
   ]
  },
  {
   "cell_type": "code",
   "execution_count": 6,
   "metadata": {},
   "outputs": [
    {
     "name": "stdout",
     "output_type": "stream",
     "text": [
      "[>>Código 1 / Saldo R$ 1500<<]\n",
      "[>>Código 222 / Saldo R$ 600<<]\n",
      "[>>Código 119 / Saldo R$ 450<<]\n",
      "[>>Código 23 / Saldo R$ 900<<]\n"
     ]
    }
   ],
   "source": [
    "for conta in contas:\n",
    "    print(conta)"
   ]
  },
  {
   "cell_type": "code",
   "execution_count": 7,
   "metadata": {},
   "outputs": [
    {
     "ename": "TypeError",
     "evalue": "'<' not supported between instances of 'ContaSalarioMAMM' and 'ContaSalarioMAMM'",
     "output_type": "error",
     "traceback": [
      "\u001b[1;31m---------------------------------------------------------------------------\u001b[0m",
      "\u001b[1;31mTypeError\u001b[0m                                 Traceback (most recent call last)",
      "Cell \u001b[1;32mIn[7], line 1\u001b[0m\n\u001b[1;32m----> 1\u001b[0m \u001b[39msorted\u001b[39;49m(contas)\n",
      "\u001b[1;31mTypeError\u001b[0m: '<' not supported between instances of 'ContaSalarioMAMM' and 'ContaSalarioMAMM'"
     ]
    }
   ],
   "source": [
    "sorted(contas)"
   ]
  },
  {
   "cell_type": "code",
   "execution_count": 9,
   "metadata": {},
   "outputs": [
    {
     "ename": "TypeError",
     "evalue": "'<' not supported between instances of 'ContaSalarioMAMM' and 'ContaSalarioMAMM'",
     "output_type": "error",
     "traceback": [
      "\u001b[1;31m---------------------------------------------------------------------------\u001b[0m",
      "\u001b[1;31mTypeError\u001b[0m                                 Traceback (most recent call last)",
      "Cell \u001b[1;32mIn[9], line 2\u001b[0m\n\u001b[0;32m      1\u001b[0m \u001b[39m# Não é possível fazer comparações entre as contas.\u001b[39;00m\n\u001b[1;32m----> 2\u001b[0m conta_do_rodrigo \u001b[39m<\u001b[39;49m conta_da_sara\n",
      "\u001b[1;31mTypeError\u001b[0m: '<' not supported between instances of 'ContaSalarioMAMM' and 'ContaSalarioMAMM'"
     ]
    }
   ],
   "source": [
    "# Não é possível fazer comparações entre as contas.\n",
    "conta_do_rodrigo < conta_da_sara"
   ]
  },
  {
   "cell_type": "code",
   "execution_count": 10,
   "metadata": {},
   "outputs": [
    {
     "data": {
      "text/plain": [
       "[<__main__.ContaSalarioMAMM at 0x28041eb46d0>,\n",
       " <__main__.ContaSalarioMAMM at 0x28041ec41d0>,\n",
       " <__main__.ContaSalarioMAMM at 0x280409e9d10>,\n",
       " <__main__.ContaSalarioMAMM at 0x28041f6ac10>]"
      ]
     },
     "execution_count": 10,
     "metadata": {},
     "output_type": "execute_result"
    }
   ],
   "source": [
    "def extrai_saldo(conta):\n",
    "    return conta._saldo # _saldo é privado e não é adequado usá-lo.\n",
    "\n",
    "sorted(contas, key=extrai_saldo)"
   ]
  },
  {
   "cell_type": "code",
   "execution_count": 11,
   "metadata": {},
   "outputs": [
    {
     "name": "stdout",
     "output_type": "stream",
     "text": [
      "[>>Código 119 / Saldo R$ 450<<]\n",
      "[>>Código 222 / Saldo R$ 600<<]\n",
      "[>>Código 23 / Saldo R$ 900<<]\n",
      "[>>Código 1 / Saldo R$ 1500<<]\n"
     ]
    }
   ],
   "source": [
    "def extrai_saldo(conta):\n",
    "    return conta._saldo\n",
    "\n",
    "for conta in sorted(contas, key=extrai_saldo):\n",
    "    print(conta)"
   ]
  },
  {
   "cell_type": "code",
   "execution_count": 12,
   "metadata": {},
   "outputs": [],
   "source": [
    "from operator import attrgetter"
   ]
  },
  {
   "cell_type": "code",
   "execution_count": 14,
   "metadata": {},
   "outputs": [
    {
     "name": "stdout",
     "output_type": "stream",
     "text": [
      "[>>Código 119 / Saldo R$ 450<<]\n",
      "[>>Código 222 / Saldo R$ 600<<]\n",
      "[>>Código 23 / Saldo R$ 900<<]\n",
      "[>>Código 1 / Saldo R$ 1500<<]\n"
     ]
    }
   ],
   "source": [
    "# Usando attrgetter não precisamos usar outra função para acessar\n",
    "# um atributo, seja público ou privado.\n",
    "for conta in sorted(contas, key=attrgetter('_saldo')):\n",
    "    print(conta)"
   ]
  },
  {
   "cell_type": "code",
   "execution_count": 16,
   "metadata": {},
   "outputs": [],
   "source": [
    "class ContaSalarioMAMMComparativo:\n",
    "\n",
    "    def __init__(self, codigo):\n",
    "        self._codigo = codigo\n",
    "        self._saldo = 0\n",
    "\n",
    "    def __eq__(self, outro):\n",
    "        if type(outro) != ContaSalarioMelhorAindaMais:\n",
    "            return False\n",
    "        \n",
    "        return self._codigo == outro._codigo and self._saldo == outro._saldo\n",
    "\n",
    "    def __lt__(self, outro): # lt de menor que.\n",
    "        return self._saldo < outro._saldo # Não quebramos encapsulamento por estar dentro da classe.\n",
    "\n",
    "    def deposita(self, valor):\n",
    "        self._saldo += valor\n",
    "\n",
    "    def __str__(self):\n",
    "        return f'[>>Código {self._codigo} / Saldo R$ {self._saldo}<<]'"
   ]
  },
  {
   "cell_type": "code",
   "execution_count": 17,
   "metadata": {},
   "outputs": [],
   "source": [
    "conta_do_rodrigo = ContaSalarioMAMMComparativo(23)\n",
    "conta_do_rodrigo.deposita(900)\n",
    "\n",
    "conta_da_sara = ContaSalarioMAMMComparativo(1)\n",
    "conta_da_sara.deposita(1500)\n",
    "\n",
    "conta_do_miguel = ContaSalarioMAMMComparativo(119)\n",
    "conta_do_miguel.deposita(450)\n",
    "\n",
    "conta_da_melissa = ContaSalarioMAMMComparativo(222)\n",
    "conta_da_melissa.deposita(600)\n",
    "\n",
    "contas_comparadas = [conta_da_sara, conta_da_melissa, conta_do_miguel, conta_do_rodrigo]"
   ]
  },
  {
   "cell_type": "code",
   "execution_count": 18,
   "metadata": {},
   "outputs": [
    {
     "data": {
      "text/plain": [
       "True"
      ]
     },
     "execution_count": 18,
     "metadata": {},
     "output_type": "execute_result"
    }
   ],
   "source": [
    "conta_do_rodrigo < conta_da_sara"
   ]
  },
  {
   "cell_type": "code",
   "execution_count": 19,
   "metadata": {},
   "outputs": [
    {
     "data": {
      "text/plain": [
       "False"
      ]
     },
     "execution_count": 19,
     "metadata": {},
     "output_type": "execute_result"
    }
   ],
   "source": [
    "conta_do_rodrigo > conta_da_sara"
   ]
  },
  {
   "cell_type": "code",
   "execution_count": 20,
   "metadata": {},
   "outputs": [
    {
     "name": "stdout",
     "output_type": "stream",
     "text": [
      "[>>Código 119 / Saldo R$ 450<<]\n",
      "[>>Código 222 / Saldo R$ 600<<]\n",
      "[>>Código 23 / Saldo R$ 900<<]\n",
      "[>>Código 1 / Saldo R$ 1500<<]\n"
     ]
    }
   ],
   "source": [
    "for conta in sorted(contas_comparadas):\n",
    "    print(conta)"
   ]
  },
  {
   "cell_type": "code",
   "execution_count": 21,
   "metadata": {},
   "outputs": [
    {
     "name": "stdout",
     "output_type": "stream",
     "text": [
      "[>>Código 1 / Saldo R$ 1500<<]\n",
      "[>>Código 23 / Saldo R$ 900<<]\n",
      "[>>Código 222 / Saldo R$ 600<<]\n",
      "[>>Código 119 / Saldo R$ 450<<]\n"
     ]
    }
   ],
   "source": [
    "for conta in sorted(contas_comparadas, reverse=True):\n",
    "    print(conta)"
   ]
  },
  {
   "attachments": {},
   "cell_type": "markdown",
   "metadata": {},
   "source": [
    "## ORDENAÇÃO COMPLETA E FUNCTOOLS"
   ]
  },
  {
   "cell_type": "code",
   "execution_count": 26,
   "metadata": {},
   "outputs": [],
   "source": [
    "class ContaSalarioMAMMC2:\n",
    "\n",
    "    def __init__(self, codigo):\n",
    "        self._codigo = codigo\n",
    "        self._saldo = 0\n",
    "\n",
    "    def __eq__(self, outro):\n",
    "        if type(outro) != ContaSalarioMelhorAindaMais:\n",
    "            return False\n",
    "        \n",
    "        return self._codigo == outro._codigo and self._saldo == outro._saldo\n",
    "\n",
    "    def __lt__(self, outro): # Comparação pode ser mais complexa.\n",
    "        if self._saldo != outro._saldo:\n",
    "            return self._saldo < outro._saldo\n",
    "        \n",
    "        return self._codigo < outro._codigo\n",
    "    \n",
    "    def deposita(self, valor):\n",
    "        self._saldo += valor\n",
    "\n",
    "    def __str__(self):\n",
    "        return f'[>>Código {self._codigo} / Saldo R$ {self._saldo}<<]'"
   ]
  },
  {
   "cell_type": "code",
   "execution_count": 27,
   "metadata": {},
   "outputs": [],
   "source": [
    "conta_do_rodrigo = ContaSalarioMAMMC2(23)\n",
    "conta_do_rodrigo.deposita(900)\n",
    "\n",
    "conta_da_sara = ContaSalarioMAMMC2(1)\n",
    "conta_da_sara.deposita(900)\n",
    "\n",
    "conta_do_miguel = ContaSalarioMAMMC2(119)\n",
    "conta_do_miguel.deposita(450)\n",
    "\n",
    "conta_da_melissa = ContaSalarioMAMMC2(222)\n",
    "conta_da_melissa.deposita(600)\n",
    "\n",
    "contas_comparadas = [conta_da_sara, conta_da_melissa, conta_do_miguel, conta_do_rodrigo]"
   ]
  },
  {
   "cell_type": "code",
   "execution_count": 28,
   "metadata": {},
   "outputs": [
    {
     "name": "stdout",
     "output_type": "stream",
     "text": [
      "[>>Código 119 / Saldo R$ 450<<]\n",
      "[>>Código 222 / Saldo R$ 600<<]\n",
      "[>>Código 1 / Saldo R$ 900<<]\n",
      "[>>Código 23 / Saldo R$ 900<<]\n"
     ]
    }
   ],
   "source": [
    "for conta in sorted(contas_comparadas):\n",
    "    print(conta)"
   ]
  },
  {
   "cell_type": "code",
   "execution_count": 29,
   "metadata": {},
   "outputs": [
    {
     "data": {
      "text/plain": [
       "False"
      ]
     },
     "execution_count": 29,
     "metadata": {},
     "output_type": "execute_result"
    }
   ],
   "source": [
    "conta_do_rodrigo < conta_da_sara"
   ]
  },
  {
   "cell_type": "code",
   "execution_count": 30,
   "metadata": {},
   "outputs": [
    {
     "data": {
      "text/plain": [
       "True"
      ]
     },
     "execution_count": 30,
     "metadata": {},
     "output_type": "execute_result"
    }
   ],
   "source": [
    "conta_do_rodrigo > conta_da_sara"
   ]
  },
  {
   "cell_type": "code",
   "execution_count": 32,
   "metadata": {},
   "outputs": [
    {
     "ename": "NameError",
     "evalue": "name 'ContaSalarioMelhorAindaMais' is not defined",
     "output_type": "error",
     "traceback": [
      "\u001b[1;31m---------------------------------------------------------------------------\u001b[0m",
      "\u001b[1;31mNameError\u001b[0m                                 Traceback (most recent call last)",
      "Cell \u001b[1;32mIn[32], line 1\u001b[0m\n\u001b[1;32m----> 1\u001b[0m conta_do_rodrigo \u001b[39m==\u001b[39;49m conta_da_sara\n",
      "Cell \u001b[1;32mIn[26], line 8\u001b[0m, in \u001b[0;36mContaSalarioMAMMC2.__eq__\u001b[1;34m(self, outro)\u001b[0m\n\u001b[0;32m      7\u001b[0m \u001b[39mdef\u001b[39;00m \u001b[39m__eq__\u001b[39m(\u001b[39mself\u001b[39m, outro):\n\u001b[1;32m----> 8\u001b[0m     \u001b[39mif\u001b[39;00m \u001b[39mtype\u001b[39m(outro) \u001b[39m!=\u001b[39m ContaSalarioMelhorAindaMais:\n\u001b[0;32m      9\u001b[0m         \u001b[39mreturn\u001b[39;00m \u001b[39mFalse\u001b[39;00m\n\u001b[0;32m     11\u001b[0m     \u001b[39mreturn\u001b[39;00m \u001b[39mself\u001b[39m\u001b[39m.\u001b[39m_codigo \u001b[39m==\u001b[39m outro\u001b[39m.\u001b[39m_codigo \u001b[39mand\u001b[39;00m \u001b[39mself\u001b[39m\u001b[39m.\u001b[39m_saldo \u001b[39m==\u001b[39m outro\u001b[39m.\u001b[39m_saldo\n",
      "\u001b[1;31mNameError\u001b[0m: name 'ContaSalarioMelhorAindaMais' is not defined"
     ]
    }
   ],
   "source": [
    "conta_do_rodrigo == conta_da_sara"
   ]
  },
  {
   "cell_type": "code",
   "execution_count": 33,
   "metadata": {},
   "outputs": [
    {
     "ename": "TypeError",
     "evalue": "'<=' not supported between instances of 'ContaSalarioMAMMC2' and 'ContaSalarioMAMMC2'",
     "output_type": "error",
     "traceback": [
      "\u001b[1;31m---------------------------------------------------------------------------\u001b[0m",
      "\u001b[1;31mTypeError\u001b[0m                                 Traceback (most recent call last)",
      "Cell \u001b[1;32mIn[33], line 1\u001b[0m\n\u001b[1;32m----> 1\u001b[0m conta_do_rodrigo \u001b[39m<\u001b[39;49m\u001b[39m=\u001b[39;49m conta_da_sara\n",
      "\u001b[1;31mTypeError\u001b[0m: '<=' not supported between instances of 'ContaSalarioMAMMC2' and 'ContaSalarioMAMMC2'"
     ]
    }
   ],
   "source": [
    "conta_do_rodrigo <= conta_da_sara"
   ]
  },
  {
   "cell_type": "code",
   "execution_count": 42,
   "metadata": {},
   "outputs": [],
   "source": [
    "from functools import total_ordering\n",
    "\n",
    "@total_ordering # total_ordering nos dá todas as ordenações possíveis.\n",
    "class ContaSalarioMAMMC3:\n",
    "\n",
    "    def __init__(self, codigo):\n",
    "        self._codigo = codigo\n",
    "        self._saldo = 0\n",
    "\n",
    "    def __eq__(self, outro):\n",
    "        if type(outro) != ContaSalarioMelhorAindaMais:\n",
    "            return False\n",
    "        \n",
    "        return self._codigo == outro._codigo and self._saldo == outro._saldo\n",
    "\n",
    "    def __lt__(self, outro): # Comparação pode ser mais complexa.\n",
    "        if self._saldo != outro._saldo:\n",
    "            return self._saldo < outro._saldo\n",
    "        \n",
    "        return self._codigo < outro._codigo\n",
    "    \n",
    "    def deposita(self, valor):\n",
    "        self._saldo += valor\n",
    "\n",
    "    def __str__(self):\n",
    "        return f'[>>Código {self._codigo} / Saldo R$ {self._saldo}<<]'"
   ]
  },
  {
   "cell_type": "code",
   "execution_count": 44,
   "metadata": {},
   "outputs": [],
   "source": [
    "conta_do_rodrigo = ContaSalarioMAMMC3(23)\n",
    "conta_do_rodrigo.deposita(900)\n",
    "\n",
    "conta_da_sara = ContaSalarioMAMMC3(1)\n",
    "conta_da_sara.deposita(900)\n",
    "\n",
    "conta_do_miguel = ContaSalarioMAMMC3(119)\n",
    "conta_do_miguel.deposita(450)\n",
    "\n",
    "conta_da_melissa = ContaSalarioMAMMC3(222)\n",
    "conta_da_melissa.deposita(600)\n",
    "\n",
    "contas_comparadas = [conta_da_sara, conta_da_melissa, conta_do_miguel, conta_do_rodrigo]"
   ]
  },
  {
   "cell_type": "code",
   "execution_count": 47,
   "metadata": {},
   "outputs": [
    {
     "data": {
      "text/plain": [
       "False"
      ]
     },
     "execution_count": 47,
     "metadata": {},
     "output_type": "execute_result"
    }
   ],
   "source": [
    "conta_do_rodrigo <= conta_da_sara"
   ]
  },
  {
   "cell_type": "code",
   "execution_count": 48,
   "metadata": {},
   "outputs": [
    {
     "data": {
      "text/plain": [
       "True"
      ]
     },
     "execution_count": 48,
     "metadata": {},
     "output_type": "execute_result"
    }
   ],
   "source": [
    "conta_do_rodrigo > conta_da_sara"
   ]
  },
  {
   "cell_type": "code",
   "execution_count": 49,
   "metadata": {},
   "outputs": [
    {
     "data": {
      "text/plain": [
       "False"
      ]
     },
     "execution_count": 49,
     "metadata": {},
     "output_type": "execute_result"
    }
   ],
   "source": [
    "conta_do_rodrigo < conta_da_sara"
   ]
  },
  {
   "cell_type": "code",
   "execution_count": 50,
   "metadata": {},
   "outputs": [
    {
     "data": {
      "text/plain": [
       "True"
      ]
     },
     "execution_count": 50,
     "metadata": {},
     "output_type": "execute_result"
    }
   ],
   "source": [
    "conta_do_rodrigo > conta_do_rodrigo"
   ]
  },
  {
   "cell_type": "code",
   "execution_count": 51,
   "metadata": {},
   "outputs": [
    {
     "data": {
      "text/plain": [
       "False"
      ]
     },
     "execution_count": 51,
     "metadata": {},
     "output_type": "execute_result"
    }
   ],
   "source": [
    "conta_do_rodrigo < conta_do_rodrigo"
   ]
  },
  {
   "cell_type": "code",
   "execution_count": 52,
   "metadata": {},
   "outputs": [
    {
     "data": {
      "text/plain": [
       "False"
      ]
     },
     "execution_count": 52,
     "metadata": {},
     "output_type": "execute_result"
    }
   ],
   "source": [
    "conta_do_rodrigo == conta_do_rodrigo"
   ]
  },
  {
   "cell_type": "code",
   "execution_count": 53,
   "metadata": {},
   "outputs": [
    {
     "data": {
      "text/plain": [
       "False"
      ]
     },
     "execution_count": 53,
     "metadata": {},
     "output_type": "execute_result"
    }
   ],
   "source": [
    "conta_do_rodrigo <= conta_do_rodrigo"
   ]
  }
 ],
 "metadata": {
  "kernelspec": {
   "display_name": "Python 3",
   "language": "python",
   "name": "python3"
  },
  "language_info": {
   "codemirror_mode": {
    "name": "ipython",
    "version": 3
   },
   "file_extension": ".py",
   "mimetype": "text/x-python",
   "name": "python",
   "nbconvert_exporter": "python",
   "pygments_lexer": "ipython3",
   "version": "3.11.0"
  },
  "orig_nbformat": 4,
  "vscode": {
   "interpreter": {
    "hash": "aee8b7b246df8f9039afb4144a1f6fd8d2ca17a180786b69acc140d282b71a49"
   }
  }
 },
 "nbformat": 4,
 "nbformat_minor": 2
}
